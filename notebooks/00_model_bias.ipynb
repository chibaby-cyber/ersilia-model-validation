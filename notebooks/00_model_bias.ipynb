Data processing
In this notebook, I am loading a list of molecules I obtained from ChEMBL and processing them to make sure I have:

Standard SMILES representation of the compound
InChIKey associated to the compound
